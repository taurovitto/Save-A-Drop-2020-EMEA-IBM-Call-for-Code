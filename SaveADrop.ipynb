{
 "cells": [
  {
   "cell_type": "markdown",
   "metadata": {},
   "source": [
    "# Purpose of the analysis\n",
    "Construction of a predictive model for droughts based on weather conditions which will, in its final form, enable local water suppliers to set appropriate monthly quantities of water consumption based on its projected scarcity.\n",
    "Note that for the purpose of the challenge the model was built and trained on 2015 California data."
   ]
  },
  {
   "cell_type": "markdown",
   "metadata": {},
   "source": [
    "# Load the data\n",
    "The two datasets in use are:\n",
    "1. United States Droughts by County built by the United States Drought Monitor: https://www.kaggle.com/us-drought-monitor/united-states-droughts-by-county   \n",
    "2. California CIMIS Weather Stations daily data, downloaded and collected into a dataset by us from: http://ipm.ucanr.edu/WEATHER/wxactstnames.html        "
   ]
  },
  {
   "cell_type": "markdown",
   "metadata": {},
   "source": [
    "The first contains weekly observations about the extent and severity of drought in each county of the United States. The dataset contains the following fields:\n",
    "1. `releaseDate`: when this data was released on the USDM website\n",
    "2. `FIPS`: the FIPS code for this county\n",
    "3. `county`: the county name\n",
    "4. `state`: the state the county is in\n",
    "5. `NONE`: percentage of the county that is not in drought\n",
    "6. `D0`: percentage of the county that is in abnormally dry conditions\n",
    "7. `D1`: percentage of the county that is in moderate drought\n",
    "8. `D2`: percentage of the county that is in severe drought\n",
    "9. `D3`: percentage of the county that is in extreme drought\n",
    "10. `D4`: percentage of the county that is in exceptional drought\n",
    "11. `validStart`: the starting date of the week that these observations represent\n",
    "12. `validEnd`: the ending date of the week that these observations represent\n",
    "13. `domStatisticFormatID`: which is always 1    \n",
    "Note: the drought categories are cumulative: if an area is in `D3`, then it is also in `D2`, `D1`, and `D0`. This means that, for every observation, `D4 <= D3 <= D2 <= D1 <= D0`."
   ]
  },
  {
   "cell_type": "code",
   "execution_count": 1,
   "metadata": {},
   "outputs": [
    {
     "data": {
      "text/html": [
       "<div>\n",
       "<style scoped>\n",
       "    .dataframe tbody tr th:only-of-type {\n",
       "        vertical-align: middle;\n",
       "    }\n",
       "\n",
       "    .dataframe tbody tr th {\n",
       "        vertical-align: top;\n",
       "    }\n",
       "\n",
       "    .dataframe thead th {\n",
       "        text-align: right;\n",
       "    }\n",
       "</style>\n",
       "<table border=\"1\" class=\"dataframe\">\n",
       "  <thead>\n",
       "    <tr style=\"text-align: right;\">\n",
       "      <th></th>\n",
       "      <th>releaseDate</th>\n",
       "      <th>FIPS</th>\n",
       "      <th>county</th>\n",
       "      <th>state</th>\n",
       "      <th>NONE</th>\n",
       "      <th>D0</th>\n",
       "      <th>D1</th>\n",
       "      <th>D2</th>\n",
       "      <th>D3</th>\n",
       "      <th>D4</th>\n",
       "      <th>validStart</th>\n",
       "      <th>validEnd</th>\n",
       "      <th>domStatisticFormatID</th>\n",
       "    </tr>\n",
       "  </thead>\n",
       "  <tbody>\n",
       "    <tr>\n",
       "      <th>0</th>\n",
       "      <td>2000-11-07</td>\n",
       "      <td>2013</td>\n",
       "      <td>Aleutians East Borough</td>\n",
       "      <td>AK</td>\n",
       "      <td>100.0</td>\n",
       "      <td>0.0</td>\n",
       "      <td>0.0</td>\n",
       "      <td>0.0</td>\n",
       "      <td>0.0</td>\n",
       "      <td>0.0</td>\n",
       "      <td>2000-11-07</td>\n",
       "      <td>2000-11-13</td>\n",
       "      <td>1</td>\n",
       "    </tr>\n",
       "    <tr>\n",
       "      <th>1</th>\n",
       "      <td>2000-10-31</td>\n",
       "      <td>2013</td>\n",
       "      <td>Aleutians East Borough</td>\n",
       "      <td>AK</td>\n",
       "      <td>100.0</td>\n",
       "      <td>0.0</td>\n",
       "      <td>0.0</td>\n",
       "      <td>0.0</td>\n",
       "      <td>0.0</td>\n",
       "      <td>0.0</td>\n",
       "      <td>2000-10-31</td>\n",
       "      <td>2000-11-06</td>\n",
       "      <td>1</td>\n",
       "    </tr>\n",
       "    <tr>\n",
       "      <th>2</th>\n",
       "      <td>2000-10-24</td>\n",
       "      <td>2013</td>\n",
       "      <td>Aleutians East Borough</td>\n",
       "      <td>AK</td>\n",
       "      <td>100.0</td>\n",
       "      <td>0.0</td>\n",
       "      <td>0.0</td>\n",
       "      <td>0.0</td>\n",
       "      <td>0.0</td>\n",
       "      <td>0.0</td>\n",
       "      <td>2000-10-24</td>\n",
       "      <td>2000-10-30</td>\n",
       "      <td>1</td>\n",
       "    </tr>\n",
       "    <tr>\n",
       "      <th>3</th>\n",
       "      <td>2000-10-17</td>\n",
       "      <td>2013</td>\n",
       "      <td>Aleutians East Borough</td>\n",
       "      <td>AK</td>\n",
       "      <td>100.0</td>\n",
       "      <td>0.0</td>\n",
       "      <td>0.0</td>\n",
       "      <td>0.0</td>\n",
       "      <td>0.0</td>\n",
       "      <td>0.0</td>\n",
       "      <td>2000-10-17</td>\n",
       "      <td>2000-10-23</td>\n",
       "      <td>1</td>\n",
       "    </tr>\n",
       "    <tr>\n",
       "      <th>4</th>\n",
       "      <td>2000-10-10</td>\n",
       "      <td>2013</td>\n",
       "      <td>Aleutians East Borough</td>\n",
       "      <td>AK</td>\n",
       "      <td>100.0</td>\n",
       "      <td>0.0</td>\n",
       "      <td>0.0</td>\n",
       "      <td>0.0</td>\n",
       "      <td>0.0</td>\n",
       "      <td>0.0</td>\n",
       "      <td>2000-10-10</td>\n",
       "      <td>2000-10-16</td>\n",
       "      <td>1</td>\n",
       "    </tr>\n",
       "  </tbody>\n",
       "</table>\n",
       "</div>"
      ],
      "text/plain": [
       "  releaseDate  FIPS                  county state   NONE   D0   D1   D2   D3  \\\n",
       "0  2000-11-07  2013  Aleutians East Borough    AK  100.0  0.0  0.0  0.0  0.0   \n",
       "1  2000-10-31  2013  Aleutians East Borough    AK  100.0  0.0  0.0  0.0  0.0   \n",
       "2  2000-10-24  2013  Aleutians East Borough    AK  100.0  0.0  0.0  0.0  0.0   \n",
       "3  2000-10-17  2013  Aleutians East Borough    AK  100.0  0.0  0.0  0.0  0.0   \n",
       "4  2000-10-10  2013  Aleutians East Borough    AK  100.0  0.0  0.0  0.0  0.0   \n",
       "\n",
       "    D4  validStart    validEnd  domStatisticFormatID  \n",
       "0  0.0  2000-11-07  2000-11-13                     1  \n",
       "1  0.0  2000-10-31  2000-11-06                     1  \n",
       "2  0.0  2000-10-24  2000-10-30                     1  \n",
       "3  0.0  2000-10-17  2000-10-23                     1  \n",
       "4  0.0  2000-10-10  2000-10-16                     1  "
      ]
     },
     "execution_count": 1,
     "metadata": {},
     "output_type": "execute_result"
    }
   ],
   "source": [
    "import numpy as np\n",
    "import types\n",
    "import pandas as pd\n",
    "from botocore.client import Config\n",
    "import ibm_boto3\n",
    "\n",
    "def __iter__(self): return 0\n",
    "\n",
    "# @hidden_cell\n",
    "#A portion of the code has been removed as it accesses a file in the IBM Cloud Object Storage.\n",
    
    "body = client_e2de682dc7ed4e2381d11612ff0c7b75.get_object(Bucket='waterstudio-donotdelete-pr-nm59bgkdjtmivj',Key='us-droughts.csv')['Body']\n",
    "# add missing __iter__ method, so pandas accepts body as file-like object\n",
    "if not hasattr(body, \"__iter__\"): body.__iter__ = types.MethodType( __iter__, body )\n",
    "\n",
    "droughts = pd.read_csv(body)\n",
    "\n",
    "droughts.head()"
   ]
  },
  {
   "cell_type": "markdown",
   "metadata": {},
   "source": [
    "The second contains daily weather observations. The dataset contains the following fields:\n",
    "1. `Station`: station ID\n",
    "2. `Date`: date of the observation\t\n",
    "3. `Time`: time of the observation\n",
    "4. `Precip`: precipitations' daily total measured in a 20 cm (8 in) diameter gauge\n",
    "5. `type`: precipitation type\n",
    "6. `Air max`: daily max air temperature measured at 1.5 m (4.92 ft)\n",
    "7. `min`: daily min air temperature measured at 1.5 m (4.92 ft)\n",
    "8. `obs`: not explained and not relevant for the analysis \n",
    "9. `Wx`: qualitative indication of the weather (not relevant for the analysis)\n",
    "10. `Wind dir`: daily average of the wind direction measured at 2 m (6.5 ft)\n",
    "11. `speed`: daily average of the wind speed measured at 2 m (6.5 ft)\n",
    "12. `Bulb wet`: not explained and not relevant for the analysis\n",
    "13. `dry`: not explained and not relevant for the analysis\n",
    "14. `Soil max`: daily max soil temperature measured at a 15 cm (6 in) depth\n",
    "15. `min.1`: daily min soil temperature measured at a 15 cm (6 in) depth\n",
    "16. `Evap`: not explained and not relevant for the analysis\n",
    "17. `Solar`: Daily global radiation measured by Licor pyranometer at 2 m (6.5 ft)\n",
    "18. `ETo`: Evotranspiration, calculated from CIMIS hourly values\n",
    "19. `RH max`: Daily max relative humidity measured at 1.5 m \n",
    "20. `min.2`:  Daily min relative humidity measured at 1.5 m \n",
    "21. `to be removed`: artifact of the data collection process containing all missing values"
   ]
  },
  {
   "cell_type": "code",
   "execution_count": 2,
   "metadata": {},
   "outputs": [
    {
     "data": {
      "text/html": [
       "<div>\n",
       "<style scoped>\n",
       "    .dataframe tbody tr th:only-of-type {\n",
       "        vertical-align: middle;\n",
       "    }\n",
       "\n",
       "    .dataframe tbody tr th {\n",
       "        vertical-align: top;\n",
       "    }\n",
       "\n",
       "    .dataframe thead th {\n",
       "        text-align: right;\n",
       "    }\n",
       "</style>\n",
       "<table border=\"1\" class=\"dataframe\">\n",
       "  <thead>\n",
       "    <tr style=\"text-align: right;\">\n",
       "      <th></th>\n",
       "      <th>Station</th>\n",
       "      <th>Date</th>\n",
       "      <th>Time</th>\n",
       "      <th>Precip</th>\n",
       "      <th>type</th>\n",
       "      <th>Air max</th>\n",
       "      <th>min</th>\n",
       "      <th>obs</th>\n",
       "      <th>Wx</th>\n",
       "      <th>Wind dir</th>\n",
       "      <th>...</th>\n",
       "      <th>Bulb wet</th>\n",
       "      <th>dry</th>\n",
       "      <th>Soil max</th>\n",
       "      <th>min.1</th>\n",
       "      <th>Evap</th>\n",
       "      <th>Solar</th>\n",
       "      <th>ETo</th>\n",
       "      <th>RH max</th>\n",
       "      <th>min.2</th>\n",
       "      <th>to be removed</th>\n",
       "    </tr>\n",
       "  </thead>\n",
       "  <tbody>\n",
       "    <tr>\n",
       "      <th>0</th>\n",
       "      <td>ALTURAS.A</td>\n",
       "      <td>20150101</td>\n",
       "      <td>2359.0</td>\n",
       "      <td>0.0</td>\n",
       "      <td>NaN</td>\n",
       "      <td>36.0</td>\n",
       "      <td>7.0</td>\n",
       "      <td>NaN</td>\n",
       "      <td>NaN</td>\n",
       "      <td>0</td>\n",
       "      <td>...</td>\n",
       "      <td>NaN</td>\n",
       "      <td>NaN</td>\n",
       "      <td>35.0</td>\n",
       "      <td>34.0</td>\n",
       "      <td>NaN</td>\n",
       "      <td>217.0</td>\n",
       "      <td>0.03</td>\n",
       "      <td>90.0</td>\n",
       "      <td>33.0</td>\n",
       "      <td>NaN</td>\n",
       "    </tr>\n",
       "    <tr>\n",
       "      <th>1</th>\n",
       "      <td>ALTURAS.A</td>\n",
       "      <td>20150102</td>\n",
       "      <td>2359.0</td>\n",
       "      <td>0.0</td>\n",
       "      <td>NaN</td>\n",
       "      <td>43.0</td>\n",
       "      <td>11.0</td>\n",
       "      <td>NaN</td>\n",
       "      <td>NaN</td>\n",
       "      <td>0</td>\n",
       "      <td>...</td>\n",
       "      <td>NaN</td>\n",
       "      <td>NaN</td>\n",
       "      <td>35.0</td>\n",
       "      <td>34.0</td>\n",
       "      <td>NaN</td>\n",
       "      <td>215.0</td>\n",
       "      <td>0.03</td>\n",
       "      <td>91.0</td>\n",
       "      <td>37.0</td>\n",
       "      <td>NaN</td>\n",
       "    </tr>\n",
       "    <tr>\n",
       "      <th>2</th>\n",
       "      <td>ALTURAS.A</td>\n",
       "      <td>20150103</td>\n",
       "      <td>2359.0</td>\n",
       "      <td>0.0</td>\n",
       "      <td>NaN</td>\n",
       "      <td>51.0</td>\n",
       "      <td>16.0</td>\n",
       "      <td>NaN</td>\n",
       "      <td>NaN</td>\n",
       "      <td>0</td>\n",
       "      <td>...</td>\n",
       "      <td>NaN</td>\n",
       "      <td>NaN</td>\n",
       "      <td>34.0</td>\n",
       "      <td>34.0</td>\n",
       "      <td>NaN</td>\n",
       "      <td>212.0</td>\n",
       "      <td>0.04</td>\n",
       "      <td>93.0</td>\n",
       "      <td>43.0</td>\n",
       "      <td>NaN</td>\n",
       "    </tr>\n",
       "    <tr>\n",
       "      <th>3</th>\n",
       "      <td>ALTURAS.A</td>\n",
       "      <td>20150104</td>\n",
       "      <td>2359.0</td>\n",
       "      <td>0.0</td>\n",
       "      <td>NaN</td>\n",
       "      <td>50.0</td>\n",
       "      <td>25.0</td>\n",
       "      <td>NaN</td>\n",
       "      <td>NaN</td>\n",
       "      <td>0</td>\n",
       "      <td>...</td>\n",
       "      <td>NaN</td>\n",
       "      <td>NaN</td>\n",
       "      <td>34.0</td>\n",
       "      <td>34.0</td>\n",
       "      <td>NaN</td>\n",
       "      <td>134.0</td>\n",
       "      <td>0.03</td>\n",
       "      <td>93.0</td>\n",
       "      <td>51.0</td>\n",
       "      <td>NaN</td>\n",
       "    </tr>\n",
       "    <tr>\n",
       "      <th>4</th>\n",
       "      <td>ALTURAS.A</td>\n",
       "      <td>20150105</td>\n",
       "      <td>2359.0</td>\n",
       "      <td>0.0</td>\n",
       "      <td>NaN</td>\n",
       "      <td>57.0</td>\n",
       "      <td>26.0</td>\n",
       "      <td>NaN</td>\n",
       "      <td>NaN</td>\n",
       "      <td>0</td>\n",
       "      <td>...</td>\n",
       "      <td>NaN</td>\n",
       "      <td>NaN</td>\n",
       "      <td>34.0</td>\n",
       "      <td>34.0</td>\n",
       "      <td>NaN</td>\n",
       "      <td>159.0</td>\n",
       "      <td>0.03</td>\n",
       "      <td>93.0</td>\n",
       "      <td>34.0</td>\n",
       "      <td>NaN</td>\n",
       "    </tr>\n",
       "  </tbody>\n",
       "</table>\n",
       "<p>5 rows × 21 columns</p>\n",
       "</div>"
      ],
      "text/plain": [
       "     Station      Date    Time  Precip  type  Air max   min  obs  Wx Wind dir  \\\n",
       "0  ALTURAS.A  20150101  2359.0     0.0   NaN     36.0   7.0  NaN NaN        0   \n",
       "1  ALTURAS.A  20150102  2359.0     0.0   NaN     43.0  11.0  NaN NaN        0   \n",
       "2  ALTURAS.A  20150103  2359.0     0.0   NaN     51.0  16.0  NaN NaN        0   \n",
       "3  ALTURAS.A  20150104  2359.0     0.0   NaN     50.0  25.0  NaN NaN        0   \n",
       "4  ALTURAS.A  20150105  2359.0     0.0   NaN     57.0  26.0  NaN NaN        0   \n",
       "\n",
       "   ...  Bulb wet  dry  Soil max  min.1  Evap  Solar   ETo  RH max  min.2  \\\n",
       "0  ...       NaN  NaN      35.0   34.0   NaN  217.0  0.03    90.0   33.0   \n",
       "1  ...       NaN  NaN      35.0   34.0   NaN  215.0  0.03    91.0   37.0   \n",
       "2  ...       NaN  NaN      34.0   34.0   NaN  212.0  0.04    93.0   43.0   \n",
       "3  ...       NaN  NaN      34.0   34.0   NaN  134.0  0.03    93.0   51.0   \n",
       "4  ...       NaN  NaN      34.0   34.0   NaN  159.0  0.03    93.0   34.0   \n",
       "\n",
       "   to be removed  \n",
       "0            NaN  \n",
       "1            NaN  \n",
       "2            NaN  \n",
       "3            NaN  \n",
       "4            NaN  \n",
       "\n",
       "[5 rows x 21 columns]"
      ]
     },
     "execution_count": 2,
     "metadata": {},
     "output_type": "execute_result"
    }
   ],
   "source": [
    "body = client_e2de682dc7ed4e2381d11612ff0c7b75.get_object(Bucket='waterstudio-donotdelete-pr-nm59bgkdjtmivj',Key='stationsData.csv')['Body']\n",
    "# add missing __iter__ method, so pandas accepts body as file-like object\n",
    "if not hasattr(body, \"__iter__\"): body.__iter__ = types.MethodType( __iter__, body )\n",
    "\n",
    "sensors = pd.read_csv(body)\n",
    "\n",
    "sensors.head()"
   ]
  },
  {
   "cell_type": "markdown",
   "metadata": {},
   "source": [
    "# Data Preparation"
   ]
  },
  {
   "cell_type": "markdown",
   "metadata": {},
   "source": [
    "Definition of some variables that will be needed for the subsequent transformations"
   ]
  },
  {
   "cell_type": "code",
   "execution_count": 3,
   "metadata": {},
   "outputs": [],
   "source": [
    "map={'ATASCADERO.A': 'San Luis Obispo County', 'Auburn.A': 'Placer County', 'BENNETT_VALLEY.A': 'Sonoma County',\n",
    "'Big_Bear_Lake.A': 'San Bernardino County','BISHOP.A': 'Inyo County','Black_Point.A': 'Marin County',\n",
    "'BLYTHE_NE.A': 'Riverside County','Borrego_Springs.A': 'San Diego County',\n",
    "'BRNTWOOD.A': 'Contra Costa County','BRWNSVLY.A': 'Yuba County','BUNTNGVL.A': 'Lassen County','BRAWLEY.A': 'Imperial County',\n",
    "'CAMARILLO.A': 'Ventura County','CAMINO.A': 'El Dorado County','NAPA.A': 'Napa County','Coalinga.A': 'Fresno County',\n",
    "'CUYAMA.A': 'Santa Barbara County','DAVIS.A': 'Yolo County','SNTACRUZ.A': 'Santa Cruz County','Delano.A': 'Tulare County',\n",
    "'Denair_II.A': 'Stanislaus County','DIXON.A': 'Solano County','DURHAM.A': 'Butte County','FAIR_OAKS.A': 'Sacramento County',\n",
    "'Gerber_South.A': 'Tehama County','Gilroy.A': 'Santa Clara County','GLENDALE.A': 'Los Angeles County','SNTA_ANA.A': 'Orange County',\n",
    "'KESTERSN.A': 'Merced County','MANTECA.A': 'San Joaquin County','MCARTHUR.A': 'Shasta County','TULELK2.A': 'Siskiyou County',\n",
    "'HOPLAND2.A': 'Mendocino County','HOLLISTR.A': 'San Benito County','UNION_CITY.A': 'Alameda County','Plymouth_II.A': 'Amador County',\n",
    "'Verona.A': 'Sutter County','ALTURAS.A': 'Modoc County','ARYOSECO.A': 'Monterey County','ARVIN.A': 'Kern County'}\n",
    "\n",
    "timemap={'01':0, '02': 31, '03':49, '04':90, '05':120, '06':151, '07':181, '08':212, '09':243, '10': 273, '11':304, '12':334}\n",
    "\n",
    "list1=['Precip','Air max', 'min', 'speed','Soil max','min.1','Solar','ETo', 'RH max', 'min.2']\n",
    "\n",
    "map2={'Alpine County': 0,'Calaveras County': 0,'Colusa County':0,'Glenn County':0,'Kings County':0,'Lake County':0,'Madera County':0,\n",
    "'Mariposa County':0,'Mono County':0,'Nevada County':0,'Plumas County':0,'Sierra County':0,'Tuolumne County':0,'Del Norte County':0,\n",
    "'Humboldt County':0,'San Francisco County':0,'San Mateo County':0,'Trinity County':0}"
   ]
  },
  {
   "cell_type": "markdown",
   "metadata": {},
   "source": [
    "Elimination of the variables containing mostly missing values, fill in of the remaining ones using the mean of the respective variables"
   ]
  },
  {
   "cell_type": "code",
   "execution_count": 4,
   "metadata": {},
   "outputs": [],
   "source": [
    "sensors.drop(['to be removed','type','obs','Wx','Bulb wet','dry','Evap','Wind dir'],axis=1, inplace=True)\n",
    "sensors.fillna(sensors.mean(),inplace=True)\n"
   ]
  },
  {
   "cell_type": "markdown",
   "metadata": {},
   "source": [
    "Transformation of the stations into their respective counties"
   ]
  },
  {
   "cell_type": "code",
   "execution_count": 5,
   "metadata": {},
   "outputs": [],
   "source": [
    "sensors.replace({'Station': map}, inplace=True)\n",
    "sensors.rename(columns = {'Station':'County'}, inplace = True)"
   ]
  },
  {
   "cell_type": "markdown",
   "metadata": {},
   "source": [
    "Construction of the `Year` and `Week` variable both based on the Date one "
   ]
  },
  {
   "cell_type": "code",
   "execution_count": 6,
   "metadata": {},
   "outputs": [],
   "source": [
    "sensors.insert(13,\"Year\", None)\n",
    "sensors.insert(14,\"Week\", None)\n",
    "\n",
    "for index, row in sensors.iterrows():\n",
    "    temp=row['Date']\n",
    "    year=str(temp)[0:4]\n",
    "    month=str(temp)[4:6]\n",
    "    day=str(temp)[6:8]\n",
    "    sensors.at[index,'Year']=year\n",
    "    dayselapsed=3+timemap[month]+int(day)\n",
    "    weeks=np.ceil(dayselapsed/7)\n",
    "    sensors.at[index,'Week']=weeks\n",
    "sensors.drop(['Date','Time'],axis=1, inplace=True)"
   ]
  },
  {
   "cell_type": "markdown",
   "metadata": {},
   "source": [
    "Sorting of the dataset and filtering out of all the data which covers the beginning of 2016"
   ]
  },
  {
   "cell_type": "code",
   "execution_count": 7,
   "metadata": {},
   "outputs": [],
   "source": [
    "sensors.sort_values(['Week','County'])\n",
    "sensors=sensors[sensors.Year!='2016']"
   ]
  },
  {
   "cell_type": "markdown",
   "metadata": {},
   "source": [
    "Visualization of the final `sensors` dataset"
   ]
  },
  {
   "cell_type": "code",
   "execution_count": 8,
   "metadata": {},
   "outputs": [
    {
     "data": {
      "text/html": [
       "<div>\n",
       "<style scoped>\n",
       "    .dataframe tbody tr th:only-of-type {\n",
       "        vertical-align: middle;\n",
       "    }\n",
       "\n",
       "    .dataframe tbody tr th {\n",
       "        vertical-align: top;\n",
       "    }\n",
       "\n",
       "    .dataframe thead th {\n",
       "        text-align: right;\n",
       "    }\n",
       "</style>\n",
       "<table border=\"1\" class=\"dataframe\">\n",
       "  <thead>\n",
       "    <tr style=\"text-align: right;\">\n",
       "      <th></th>\n",
       "      <th>County</th>\n",
       "      <th>Precip</th>\n",
       "      <th>Air max</th>\n",
       "      <th>min</th>\n",
       "      <th>speed</th>\n",
       "      <th>Soil max</th>\n",
       "      <th>min.1</th>\n",
       "      <th>Solar</th>\n",
       "      <th>ETo</th>\n",
       "      <th>RH max</th>\n",
       "      <th>min.2</th>\n",
       "      <th>Year</th>\n",
       "      <th>Week</th>\n",
       "    </tr>\n",
       "  </thead>\n",
       "  <tbody>\n",
       "    <tr>\n",
       "      <th>0</th>\n",
       "      <td>Modoc County</td>\n",
       "      <td>0.0</td>\n",
       "      <td>36.0</td>\n",
       "      <td>7.0</td>\n",
       "      <td>0.0</td>\n",
       "      <td>35.0</td>\n",
       "      <td>34.0</td>\n",
       "      <td>217.0</td>\n",
       "      <td>0.03</td>\n",
       "      <td>90.0</td>\n",
       "      <td>33.0</td>\n",
       "      <td>2015</td>\n",
       "      <td>1</td>\n",
       "    </tr>\n",
       "    <tr>\n",
       "      <th>1</th>\n",
       "      <td>Modoc County</td>\n",
       "      <td>0.0</td>\n",
       "      <td>43.0</td>\n",
       "      <td>11.0</td>\n",
       "      <td>0.0</td>\n",
       "      <td>35.0</td>\n",
       "      <td>34.0</td>\n",
       "      <td>215.0</td>\n",
       "      <td>0.03</td>\n",
       "      <td>91.0</td>\n",
       "      <td>37.0</td>\n",
       "      <td>2015</td>\n",
       "      <td>1</td>\n",
       "    </tr>\n",
       "    <tr>\n",
       "      <th>2</th>\n",
       "      <td>Modoc County</td>\n",
       "      <td>0.0</td>\n",
       "      <td>51.0</td>\n",
       "      <td>16.0</td>\n",
       "      <td>0.0</td>\n",
       "      <td>34.0</td>\n",
       "      <td>34.0</td>\n",
       "      <td>212.0</td>\n",
       "      <td>0.04</td>\n",
       "      <td>93.0</td>\n",
       "      <td>43.0</td>\n",
       "      <td>2015</td>\n",
       "      <td>1</td>\n",
       "    </tr>\n",
       "    <tr>\n",
       "      <th>3</th>\n",
       "      <td>Modoc County</td>\n",
       "      <td>0.0</td>\n",
       "      <td>50.0</td>\n",
       "      <td>25.0</td>\n",
       "      <td>0.0</td>\n",
       "      <td>34.0</td>\n",
       "      <td>34.0</td>\n",
       "      <td>134.0</td>\n",
       "      <td>0.03</td>\n",
       "      <td>93.0</td>\n",
       "      <td>51.0</td>\n",
       "      <td>2015</td>\n",
       "      <td>1</td>\n",
       "    </tr>\n",
       "    <tr>\n",
       "      <th>4</th>\n",
       "      <td>Modoc County</td>\n",
       "      <td>0.0</td>\n",
       "      <td>57.0</td>\n",
       "      <td>26.0</td>\n",
       "      <td>0.0</td>\n",
       "      <td>34.0</td>\n",
       "      <td>34.0</td>\n",
       "      <td>159.0</td>\n",
       "      <td>0.03</td>\n",
       "      <td>93.0</td>\n",
       "      <td>34.0</td>\n",
       "      <td>2015</td>\n",
       "      <td>2</td>\n",
       "    </tr>\n",
       "  </tbody>\n",
       "</table>\n",
       "</div>"
      ],
      "text/plain": [
       "         County  Precip  Air max   min  speed  Soil max  min.1  Solar   ETo  \\\n",
       "0  Modoc County     0.0     36.0   7.0    0.0      35.0   34.0  217.0  0.03   \n",
       "1  Modoc County     0.0     43.0  11.0    0.0      35.0   34.0  215.0  0.03   \n",
       "2  Modoc County     0.0     51.0  16.0    0.0      34.0   34.0  212.0  0.04   \n",
       "3  Modoc County     0.0     50.0  25.0    0.0      34.0   34.0  134.0  0.03   \n",
       "4  Modoc County     0.0     57.0  26.0    0.0      34.0   34.0  159.0  0.03   \n",
       "\n",
       "   RH max  min.2  Year Week  \n",
       "0    90.0   33.0  2015    1  \n",
       "1    91.0   37.0  2015    1  \n",
       "2    93.0   43.0  2015    1  \n",
       "3    93.0   51.0  2015    1  \n",
       "4    93.0   34.0  2015    2  "
      ]
     },
     "execution_count": 8,
     "metadata": {},
     "output_type": "execute_result"
    }
   ],
   "source": [
    "sensors.head()"
   ]
  },
  {
   "cell_type": "markdown",
   "metadata": {},
   "source": [
    "Construction of the `sensors_means` dataset made of weekly averages of the information from the weather stations. Note that this is done in order to be consistent with the `droughts` dataset weekly structure"
   ]
  },
  {
   "cell_type": "code",
   "execution_count": 9,
   "metadata": {},
   "outputs": [],
   "source": [
    "sensors_means=pd.DataFrame(columns=['county','Precip','Air max', 'min', 'speed','Soil max','min.1','Solar','ETo', 'RH max', 'min.2', 'Week'])\n",
    "\n",
    "weekindex=0\n",
    "countyindex=0\n",
    "i=0\n",
    "\n",
    "for i in range(0,14600):\n",
    "    if i!=0 and sensors.iloc[i]['County']!=sensors.iloc[i-1]['County']:\n",
    "        weekindex=0\n",
    "        countyindex+=1\n",
    "    if sensors.iloc[i]['Week']>weekindex:\n",
    "        ma=i\n",
    "        while True:\n",
    "            ma+=1\n",
    "            if ma==14600:\n",
    "                break\n",
    "            if sensors.iloc[ma]['Week']!=sensors.iloc[ma-1]['Week']:\n",
    "                break\n",
    "        delta=ma-i\n",
    "        iforlater=i\n",
    "        index=countyindex*53+weekindex\n",
    "        sensors_means.at[index,list1]=0\n",
    "        sensors_means.at[index,list1]=sensors_means.loc[index][list1]+np.sum(sensors.iloc[i:ma][list1])\n",
    "        if not delta==0:\n",
    "            sensors_means.at[index,list1]=sensors_means.loc[index][list1]/delta\n",
    "        sensors_means.at[index,'county']=sensors.iloc[iforlater]['County']\n",
    "        weekindex+=1\n",
    "        sensors_means.at[index,'Week']=weekindex "
   ]
  },
  {
   "cell_type": "markdown",
   "metadata": {},
   "source": [
    "Visualization of the final `sensors_means` dataset"
   ]
  },
  {
   "cell_type": "code",
   "execution_count": 10,
   "metadata": {},
   "outputs": [
    {
     "data": {
      "text/html": [
       "<div>\n",
       "<style scoped>\n",
       "    .dataframe tbody tr th:only-of-type {\n",
       "        vertical-align: middle;\n",
       "    }\n",
       "\n",
       "    .dataframe tbody tr th {\n",
       "        vertical-align: top;\n",
       "    }\n",
       "\n",
       "    .dataframe thead th {\n",
       "        text-align: right;\n",
       "    }\n",
       "</style>\n",
       "<table border=\"1\" class=\"dataframe\">\n",
       "  <thead>\n",
       "    <tr style=\"text-align: right;\">\n",
       "      <th></th>\n",
       "      <th>county</th>\n",
       "      <th>Precip</th>\n",
       "      <th>Air max</th>\n",
       "      <th>min</th>\n",
       "      <th>speed</th>\n",
       "      <th>Soil max</th>\n",
       "      <th>min.1</th>\n",
       "      <th>Solar</th>\n",
       "      <th>ETo</th>\n",
       "      <th>RH max</th>\n",
       "      <th>min.2</th>\n",
       "      <th>Week</th>\n",
       "    </tr>\n",
       "  </thead>\n",
       "  <tbody>\n",
       "    <tr>\n",
       "      <th>0</th>\n",
       "      <td>Modoc County</td>\n",
       "      <td>0</td>\n",
       "      <td>45</td>\n",
       "      <td>14.75</td>\n",
       "      <td>0</td>\n",
       "      <td>34.5</td>\n",
       "      <td>34</td>\n",
       "      <td>194.5</td>\n",
       "      <td>0.0325</td>\n",
       "      <td>91.75</td>\n",
       "      <td>41</td>\n",
       "      <td>1</td>\n",
       "    </tr>\n",
       "    <tr>\n",
       "      <th>1</th>\n",
       "      <td>Modoc County</td>\n",
       "      <td>0.00285714</td>\n",
       "      <td>55.2857</td>\n",
       "      <td>24.8571</td>\n",
       "      <td>0</td>\n",
       "      <td>34.5714</td>\n",
       "      <td>34.1429</td>\n",
       "      <td>176.714</td>\n",
       "      <td>0.0342857</td>\n",
       "      <td>94.5714</td>\n",
       "      <td>47.4286</td>\n",
       "      <td>2</td>\n",
       "    </tr>\n",
       "    <tr>\n",
       "      <th>2</th>\n",
       "      <td>Modoc County</td>\n",
       "      <td>0.0257143</td>\n",
       "      <td>47.1429</td>\n",
       "      <td>27.7143</td>\n",
       "      <td>0</td>\n",
       "      <td>38.2857</td>\n",
       "      <td>36.7143</td>\n",
       "      <td>115.143</td>\n",
       "      <td>0.03</td>\n",
       "      <td>94.5714</td>\n",
       "      <td>58.8571</td>\n",
       "      <td>3</td>\n",
       "    </tr>\n",
       "    <tr>\n",
       "      <th>3</th>\n",
       "      <td>Modoc County</td>\n",
       "      <td>0</td>\n",
       "      <td>52.7143</td>\n",
       "      <td>22.2857</td>\n",
       "      <td>0</td>\n",
       "      <td>38.5714</td>\n",
       "      <td>36.8571</td>\n",
       "      <td>231.143</td>\n",
       "      <td>0.0471429</td>\n",
       "      <td>93.8571</td>\n",
       "      <td>37.7143</td>\n",
       "      <td>4</td>\n",
       "    </tr>\n",
       "    <tr>\n",
       "      <th>4</th>\n",
       "      <td>Modoc County</td>\n",
       "      <td>0.00285714</td>\n",
       "      <td>56</td>\n",
       "      <td>23.4286</td>\n",
       "      <td>0</td>\n",
       "      <td>39.4286</td>\n",
       "      <td>37.4286</td>\n",
       "      <td>239.857</td>\n",
       "      <td>0.0557143</td>\n",
       "      <td>93.5714</td>\n",
       "      <td>37.2857</td>\n",
       "      <td>5</td>\n",
       "    </tr>\n",
       "  </tbody>\n",
       "</table>\n",
       "</div>"
      ],
      "text/plain": [
       "         county      Precip  Air max      min speed Soil max    min.1  \\\n",
       "0  Modoc County           0       45    14.75     0     34.5       34   \n",
       "1  Modoc County  0.00285714  55.2857  24.8571     0  34.5714  34.1429   \n",
       "2  Modoc County   0.0257143  47.1429  27.7143     0  38.2857  36.7143   \n",
       "3  Modoc County           0  52.7143  22.2857     0  38.5714  36.8571   \n",
       "4  Modoc County  0.00285714       56  23.4286     0  39.4286  37.4286   \n",
       "\n",
       "     Solar        ETo   RH max    min.2 Week  \n",
       "0    194.5     0.0325    91.75       41    1  \n",
       "1  176.714  0.0342857  94.5714  47.4286    2  \n",
       "2  115.143       0.03  94.5714  58.8571    3  \n",
       "3  231.143  0.0471429  93.8571  37.7143    4  \n",
       "4  239.857  0.0557143  93.5714  37.2857    5  "
      ]
     },
     "execution_count": 10,
     "metadata": {},
     "output_type": "execute_result"
    }
   ],
   "source": [
    "sensors_means.head()"
   ]
  },
  {
   "cell_type": "markdown",
   "metadata": {},
   "source": [
    "Removal of all the datapoints where no drought was found, removal of the `releaseDate` column, and selection of the data related to California"
   ]
  },
  {
   "cell_type": "code",
   "execution_count": 11,
   "metadata": {},
   "outputs": [],
   "source": [
    "droughts = droughts[droughts.NONE != 100]\n",
    "droughts.drop(['releaseDate'], axis=1, inplace=True)\n",
    "droughts = droughts[droughts.state == 'CA']"
   ]
  },
  {
   "cell_type": "markdown",
   "metadata": {},
   "source": [
    "Removal of the datapoints for which no CIMIS Weather Station data is available"
   ]
  },
  {
   "cell_type": "code",
   "execution_count": 12,
   "metadata": {},
   "outputs": [],
   "source": [
    "droughts.replace({'county': map2}, inplace=True)\n",
    "droughts = droughts[droughts.county != 0]"
   ]
  },
  {
   "cell_type": "markdown",
   "metadata": {},
   "source": [
    "Creation of the `Week` column staring from the `validStart` and `validEnd` of the observation and of the `D_score` column which we will use to build our target variable"
   ]
  },
  {
   "cell_type": "code",
   "execution_count": 13,
   "metadata": {
    "scrolled": true
   },
   "outputs": [],
   "source": [
    "droughts.insert(12,\"Week\", None)\n",
    "droughts.insert(13,\"D_score\", None)\n",
    "\n",
    "for index, row in droughts.iterrows():\n",
    "    temp=row['validStart']\n",
    "    year=temp[0:4]\n",
    "    month=temp[5:7]\n",
    "    day=temp[8:10]\n",
    "    if (int(year)>2015) or int(year)<2015:\n",
    "        droughts.drop(index,axis=0, inplace=True)\n",
    "    else:\n",
    "        dayselapsed=3+timemap[month]+int(day)\n",
    "        weeks=np.ceil(dayselapsed/7)\n",
    "        droughts.at[index,'Week']=weeks\n",
    "        droughts.at[index,'D_score']=np.sum(row[['D0','D1','D2','D3','D4']])\n",
    "droughts.drop(['validStart','validEnd','FIPS','state','domStatisticFormatID','D0','D1','D2','D3','D4','NONE'], axis=1, inplace=True)"
   ]
  },
  {
   "cell_type": "markdown",
   "metadata": {},
   "source": [
    "Visualization of the final `droughts` dataset"
   ]
  },
  {
   "cell_type": "code",
   "execution_count": 14,
   "metadata": {},
   "outputs": [
    {
     "data": {
      "text/html": [
       "<div>\n",
       "<style scoped>\n",
       "    .dataframe tbody tr th:only-of-type {\n",
       "        vertical-align: middle;\n",
       "    }\n",
       "\n",
       "    .dataframe tbody tr th {\n",
       "        vertical-align: top;\n",
       "    }\n",
       "\n",
       "    .dataframe thead th {\n",
       "        text-align: right;\n",
       "    }\n",
       "</style>\n",
       "<table border=\"1\" class=\"dataframe\">\n",
       "  <thead>\n",
       "    <tr style=\"text-align: right;\">\n",
       "      <th></th>\n",
       "      <th>county</th>\n",
       "      <th>Week</th>\n",
       "      <th>D_score</th>\n",
       "    </tr>\n",
       "  </thead>\n",
       "  <tbody>\n",
       "    <tr>\n",
       "      <th>2504293</th>\n",
       "      <td>Alameda County</td>\n",
       "      <td>45</td>\n",
       "      <td>418.96</td>\n",
       "    </tr>\n",
       "    <tr>\n",
       "      <th>2504294</th>\n",
       "      <td>Alameda County</td>\n",
       "      <td>44</td>\n",
       "      <td>418.96</td>\n",
       "    </tr>\n",
       "    <tr>\n",
       "      <th>2504295</th>\n",
       "      <td>Alameda County</td>\n",
       "      <td>43</td>\n",
       "      <td>418.96</td>\n",
       "    </tr>\n",
       "    <tr>\n",
       "      <th>2504296</th>\n",
       "      <td>Alameda County</td>\n",
       "      <td>42</td>\n",
       "      <td>418.96</td>\n",
       "    </tr>\n",
       "    <tr>\n",
       "      <th>2504297</th>\n",
       "      <td>Alameda County</td>\n",
       "      <td>41</td>\n",
       "      <td>418.96</td>\n",
       "    </tr>\n",
       "  </tbody>\n",
       "</table>\n",
       "</div>"
      ],
      "text/plain": [
       "                 county Week D_score\n",
       "2504293  Alameda County   45  418.96\n",
       "2504294  Alameda County   44  418.96\n",
       "2504295  Alameda County   43  418.96\n",
       "2504296  Alameda County   42  418.96\n",
       "2504297  Alameda County   41  418.96"
      ]
     },
     "execution_count": 14,
     "metadata": {},
     "output_type": "execute_result"
    }
   ],
   "source": [
    "droughts.head()"
   ]
  },
  {
   "cell_type": "markdown",
   "metadata": {},
   "source": [
    "Construction of the `final` dataset combining the `droughts` and `sensors_means` ones and removal of the variables used for the join"
   ]
  },
  {
   "cell_type": "code",
   "execution_count": 15,
   "metadata": {},
   "outputs": [],
   "source": [
    "final=pd.merge(droughts, sensors_means, on=['county','Week'])\n",
    "final.drop(['county','Week'],axis=1, inplace=True)"
   ]
  },
  {
   "cell_type": "markdown",
   "metadata": {},
   "source": [
    "Construction of the our target variable: a 3 categories variable indicating the level of severity of the droughts"
   ]
  },
  {
   "cell_type": "code",
   "execution_count": 16,
   "metadata": {},
   "outputs": [],
   "source": [
    "for index, row in final.iterrows():\n",
    "    if int(row['D_score'])>490:\n",
    "        final.at[index, 'D_score']='Severe'\n",
    "    elif int(row['D_score'])<395:\n",
    "        final.at[index, 'D_score']='Moderate'\n",
    "    else:\n",
    "        final.at[index, 'D_score']='Intense'"
   ]
  },
  {
   "cell_type": "markdown",
   "metadata": {},
   "source": [
    "# Fitting models and evaluating performances"
   ]
  },
  {
   "cell_type": "markdown",
   "metadata": {},
   "source": [
    "Split between training and test data. Given the dataset size the `test` set is chosen to be 20% of the datapoints"
   ]
  },
  {
   "cell_type": "code",
   "execution_count": 17,
   "metadata": {},
   "outputs": [],
   "source": [
    "from sklearn.model_selection import train_test_split\n",
    "train,test=train_test_split(final, test_size=0.20)"
   ]
  },
  {
   "cell_type": "markdown",
   "metadata": {},
   "source": [
    "Logistic regression fitting, estimation, and evaluation (through the `accuracy_score` and a `confusion_matrix`)"
   ]
  },
  {
   "cell_type": "code",
   "execution_count": 19,
   "metadata": {},
   "outputs": [],
   "source": [
    "from sklearn.linear_model import LogisticRegression\n",
    "logreg=LogisticRegression(max_iter=1000000000000,multi_class='ovr')\n",
    "logreg.fit(train.drop(['D_score'],axis=1),train.loc[:,'D_score'])\n",
    "results=logreg.predict(test.drop(['D_score'],axis=1))"
   ]
  },
  {
   "cell_type": "code",
   "execution_count": 20,
   "metadata": {},
   "outputs": [
    {
     "data": {
      "text/plain": [
       "0.5144230769230769"
      ]
     },
     "execution_count": 20,
     "metadata": {},
     "output_type": "execute_result"
    }
   ],
   "source": [
    "from sklearn.metrics import accuracy_score, confusion_matrix\n",
    "accuracy_score(test.loc[:,'D_score'],results)"
   ]
  },
  {
   "cell_type": "code",
   "execution_count": 21,
   "metadata": {},
   "outputs": [
    {
     "data": {
      "text/plain": [
       "array([[85, 17, 35],\n",
       "       [42, 53, 35],\n",
       "       [55, 18, 76]])"
      ]
     },
     "execution_count": 21,
     "metadata": {},
     "output_type": "execute_result"
    }
   ],
   "source": [
    "confusion_matrix(test.loc[:,'D_score'],results)"
   ]
  },
  {
   "cell_type": "markdown",
   "metadata": {},
   "source": [
    "Random forest fitting, estimation, and evaluation (through the `accuracy_score` and a `confusion_matrix`)"
   ]
  },
  {
   "cell_type": "code",
   "execution_count": 22,
   "metadata": {},
   "outputs": [],
   "source": [
    "from sklearn.ensemble import RandomForestClassifier\n",
    "rf=RandomForestClassifier()\n",
    "rf.fit(train.drop(['D_score'],axis=1),train.loc[:,'D_score'])\n",
    "results=rf.predict(test.drop(['D_score'],axis=1))"
   ]
  },
  {
   "cell_type": "code",
   "execution_count": 23,
   "metadata": {},
   "outputs": [
    {
     "data": {
      "text/plain": [
       "0.625"
      ]
     },
     "execution_count": 23,
     "metadata": {},
     "output_type": "execute_result"
    }
   ],
   "source": [
    "accuracy_score(test.loc[:,'D_score'],results)"
   ]
  },
  {
   "cell_type": "code",
   "execution_count": 24,
   "metadata": {},
   "outputs": [
    {
     "data": {
      "text/plain": [
       "array([[ 79,  27,  31],\n",
       "       [ 22,  74,  34],\n",
       "       [ 26,  16, 107]])"
      ]
     },
     "execution_count": 24,
     "metadata": {},
     "output_type": "execute_result"
    }
   ],
   "source": [
    "confusion_matrix(test.loc[:,'D_score'],results)"
   ]
  }
 ],
 "metadata": {
  "kernelspec": {
   "display_name": "Python 3.7",
   "language": "python",
   "name": "python3"
  },
  "language_info": {
   "codemirror_mode": {
    "name": "ipython",
    "version": 3
   },
   "file_extension": ".py",
   "mimetype": "text/x-python",
   "name": "python",
   "nbconvert_exporter": "python",
   "pygments_lexer": "ipython3",
   "version": "3.7.9"
  }
 },
 "nbformat": 4,
 "nbformat_minor": 1
}
